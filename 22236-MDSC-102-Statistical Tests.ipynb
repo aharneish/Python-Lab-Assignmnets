{
 "cells": [
  {
   "cell_type": "code",
   "execution_count": 2,
   "id": "fd5334e3",
   "metadata": {},
   "outputs": [],
   "source": [
    "import scipy.stats as stats\n",
    "import numpy as np\n",
    "import matplotlib.pyplot as plt\n",
    "import pandas as pd"
   ]
  },
  {
   "cell_type": "markdown",
   "id": "2b20b1e7",
   "metadata": {},
   "source": [
    "# ztest"
   ]
  },
  {
   "cell_type": "code",
   "execution_count": 2,
   "id": "7cc6575f",
   "metadata": {},
   "outputs": [
    {
     "name": "stdout",
     "output_type": "stream",
     "text": [
      "mean = 109.63 standard deviation = 2.20\n",
      "Reject Null Hypothesis\n"
     ]
    }
   ],
   "source": [
    "import math\n",
    "import numpy as np\n",
    "from numpy.random import randn\n",
    "from statsmodels.stats.weightstats import ztest\n",
    "\n",
    "m_iq = 110\n",
    "sd_iq = 15/math.sqrt(50)\n",
    "alpha = 0.05\n",
    "mu0 = 100\n",
    "data = sd_iq*randn(50)+m_iq\n",
    "print(\"mean = %.2f standard deviation = %.2f\" % (np.mean(data), np.std(data)))\n",
    "\n",
    "ztest_score, pvalue = ztest(data,value = mu0, alternative= \"larger\")\n",
    "if(pvalue < alpha):\n",
    "    print(\"Reject Null Hypothesis\")\n",
    "else:\n",
    "    print(\"Fail to Reject Null Hypothesis\")"
   ]
  },
  {
   "cell_type": "markdown",
   "id": "4026ccc3",
   "metadata": {},
   "source": [
    "# One Sample $t$ - test\n",
    "* to test the average height of a population is 1.75m\n",
    "* assume that the height is normaly distributed: X ~ $N(\\mu,\\sigma^2)$"
   ]
  },
  {
   "cell_type": "code",
   "execution_count": 2,
   "id": "8f8d3df9",
   "metadata": {},
   "outputs": [
    {
     "name": "stdout",
     "output_type": "stream",
     "text": [
      "2.3968766311585883\n"
     ]
    }
   ],
   "source": [
    "# xbar and sxbar are the estimators of mu and sigma \n",
    "x=[1.83, 1.83, 1.73, 1.82, 1.83, 1.73, 1.99, 1.85, 1.68, 1.87]\n",
    "xb = np.mean(x)\n",
    "mu0=1.75\n",
    "std=np.std(x,ddof=1)\n",
    "n=len(x)\n",
    "t=(xb-mu0)/(std/np.sqrt(n))\n",
    "print(t)"
   ]
  },
  {
   "cell_type": "code",
   "execution_count": 3,
   "id": "ab7ad772",
   "metadata": {},
   "outputs": [
    {
     "data": {
      "image/png": "[encoded data removed]",
      "text/plain": [
       "<Figure size 432x288 with 1 Axes>"
      ]
     },
     "metadata": {
      "needs_background": "light"
     },
     "output_type": "display_data"
    }
   ],
   "source": [
    "tvals=np.linspace(-10,10,100)\n",
    "tstat=stats.t.pdf(tvals,n-1)\n",
    "plt.plot(tvals,tstat,'b-',label='T(n-1)')\n",
    "upper=tvals[tvals>t]\n",
    "tstat1=stats.t.pdf(upper,n-1)\n",
    "plt.fill_between(upper,0,tstat1,alpha=1,label='p-value')\n",
    "plt.legend()\n",
    "plt.show()"
   ]
  },
  {
   "cell_type": "markdown",
   "id": "de091435",
   "metadata": {},
   "source": [
    "# Pearson correlation test: test association between quantitative variables"
   ]
  },
  {
   "cell_type": "code",
   "execution_count": 4,
   "id": "64d2eff9",
   "metadata": {},
   "outputs": [
    {
     "name": "stdout",
     "output_type": "stream",
     "text": [
      "the p value is 4.049271758855088e-19\n"
     ]
    }
   ],
   "source": [
    "n=50 # number of samples\n",
    "x=np.random.normal(size=n)\n",
    "y=2*x+np.random.normal(size=n)\n",
    "cor,pval=stats.pearsonr(x,y)\n",
    "print(f\"the p value is {pval}\")"
   ]
  },
  {
   "cell_type": "markdown",
   "id": "63478b7a",
   "metadata": {},
   "source": [
    "# two sample (student) $t$ - test: compare two means"
   ]
  },
  {
   "cell_type": "code",
   "execution_count": 5,
   "id": "cc5168b2",
   "metadata": {},
   "outputs": [
    {
     "name": "stdout",
     "output_type": "stream",
     "text": [
      "Ttest_indResult(statistic=3.5511519888466885, pvalue=0.00228208937112721)\n"
     ]
    }
   ],
   "source": [
    "height = np.array([ 1.83, 1.83, 1.73, 1.82, 1.83, 1.73, 1.99, 1.85, 1.68, 1.87,\n",
    "                   1.66, 1.71, 1.73, 1.64, 1.70, 1.60, 1.79, 1.73, 1.62, 1.77])\n",
    "grp = np.array([\"M\"] * 10 + [\"F\"] * 10)\n",
    "print(stats.ttest_ind(height[grp=='M'],height[grp=='F'],equal_var=True))\n",
    "#stats.tttest_ind refers to t test for indepndent groups or samples of data provided and provides the t values along with the pvalue for the given test"
   ]
  },
  {
   "cell_type": "markdown",
   "id": "c00b7f98",
   "metadata": {},
   "source": [
    "# Chi square $\\chi^2$ (categorial~categorial)"
   ]
  },
  {
   "cell_type": "code",
   "execution_count": 14,
   "id": "242a312c",
   "metadata": {},
   "outputs": [
    {
     "name": "stdout",
     "output_type": "stream",
     "text": [
      "Observed table\n",
      "---------------\n",
      "meta          0  1\n",
      "carnal_tumor      \n",
      "0             4  1\n",
      "1             2  8\n",
      "Statistics\n",
      "------------------\n",
      "chi2=2.8125,pval=0.09353251268909288\n",
      "Expected table\n",
      "-----------------------\n",
      "[[2. 3.]\n",
      " [4. 6.]]\n"
     ]
    }
   ],
   "source": [
    "#no of samples = 15\n",
    "#first 10 samples have carnal tumor and the last 5 dont have\n",
    "# first 8 have metasttasis ,the  6 without and the last without \n",
    "carnal_tumor=np.array([1]*10+[0]*5)\n",
    "meta=np.array([1]*8+[0]*6+[1])\n",
    "ct=pd.crosstab(carnal_tumor,meta,rownames=['carnal_tumor'],colnames=['meta'])\n",
    "print(\"Observed table\")\n",
    "print(\"---------------\")\n",
    "print(ct)\n",
    "chi2,pval,dof,expected=stats.chi2_contingency(ct)\n",
    "print(\"Statistics\")\n",
    "print(\"------------------\")\n",
    "print(f\"chi2={chi2},pval={pval}\")\n",
    "print(\"Expected table\")\n",
    "print(\"-----------------------\")\n",
    "print(expected)"
   ]
  },
  {
   "cell_type": "markdown",
   "id": "ad7020c7",
   "metadata": {},
   "source": [
    "* computing the expected cross-table"
   ]
  },
  {
   "cell_type": "code",
   "execution_count": 20,
   "id": "43b942c6",
   "metadata": {},
   "outputs": [
    {
     "name": "stdout",
     "output_type": "stream",
     "text": [
      "carnal tumor frequency? Yes: 0.3333333333333333, No: 0.6666666666666666\n",
      "Metasis frequency? yes: 0.4,No: 0.6\n"
     ]
    }
   ],
   "source": [
    "meta_marg=ct.sum(axis=0)\n",
    "meta_freq=meta_marg/meta_marg.sum()\n",
    "carnal_t_marg=ct.sum(axis=1)\n",
    "carnal_t_freq=carnal_t_marg/carnal_t_marg.sum()\n",
    "print(f\"carnal tumor frequency? Yes: {(carnal_t_freq[0])}, No: {carnal_t_freq[1]}\")\n",
    "print(f\"Metasis frequency? yes: {meta_freq[0]},No: {meta_freq[1]}\")\n"
   ]
  },
  {
   "cell_type": "code",
   "execution_count": 21,
   "id": "097c223e",
   "metadata": {},
   "outputs": [
    {
     "name": "stdout",
     "output_type": "stream",
     "text": [
      "expected frequencies:\n",
      "[[0.13333333 0.2       ]\n",
      " [0.26666667 0.4       ]]\n"
     ]
    }
   ],
   "source": [
    "print(\"expected frequencies:\")\n",
    "print(np.outer(carnal_t_freq,meta_freq))"
   ]
  },
  {
   "cell_type": "code",
   "execution_count": 22,
   "id": "31fd6cfb",
   "metadata": {},
   "outputs": [
    {
     "name": "stdout",
     "output_type": "stream",
     "text": [
      "expected cross-table (frequencies+N:\n",
      "[[2. 3.]\n",
      " [4. 6.]]\n"
     ]
    }
   ],
   "source": [
    "print(\"expected cross-table (frequencies+N:\")\n",
    "print(np.outer(carnal_t_freq,meta_freq)*len(carnal_tumor))"
   ]
  }
 ],
 "metadata": {
  "kernelspec": {
   "display_name": "Python 3 (ipykernel)",
   "language": "python",
   "name": "python3"
  },
  "language_info": {
   "codemirror_mode": {
    "name": "ipython",
    "version": 3
   },
   "file_extension": ".py",
   "mimetype": "text/x-python",
   "name": "python",
   "nbconvert_exporter": "python",
   "pygments_lexer": "ipython3",
   "version": "3.9.13"
  },
  "vscode": {
   "interpreter": {
    "hash": "a351977ee7b04894121f5cde6ee8599f2048b7534d4382db8d533ca73fe19004"
   }
  }
 },
 "nbformat": 4,
 "nbformat_minor": 5
}
