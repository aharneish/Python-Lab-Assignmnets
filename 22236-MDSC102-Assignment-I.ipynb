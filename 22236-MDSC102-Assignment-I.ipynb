{
 "cells": [
  {
   "cell_type": "markdown",
   "id": "38291135",
   "metadata": {},
   "source": [
    "(2) In each of the following cases, compute EX, V ar(X) and EXn\n",
    "(for n ≥ 0, an integer)\n",
    "whever they exists.\n",
    "(a) f(x) = $e^−^x$, x ≥ 0.\n",
    "(b) f(x) = 1/$[π(1 + x^2)]$, $−∞ < x < ∞$.\n",
    "(c) f(x) = $xe^−^x$, x ≥ 0.\n",
    "(d) f(x) = $p(1 − p)^x^−^1$, x = 1, 2, ...; 0 < p < 1.\n"
   ]
  },
  {
   "cell_type": "code",
   "execution_count": 1,
   "id": "9ffa32d9",
   "metadata": {},
   "outputs": [],
   "source": [
    "from math import *\n",
    "from scipy.integrate import quad\n",
    "from sympy import *\n",
    "import numpy as np"
   ]
  },
  {
   "cell_type": "code",
   "execution_count": 2,
   "id": "faf6f902",
   "metadata": {},
   "outputs": [
    {
     "name": "stdout",
     "output_type": "stream",
     "text": [
      "1\n"
     ]
    }
   ],
   "source": [
    "#2(a)\n",
    "def f(x):\n",
    "    \"\"\"summary: this function returns the equation (function given in the problem) with x multiplied to it for finding the expectation \n",
    "    date: 9/08/22\n",
    "    author: Aharneish Abburu\"\"\"\n",
    "    return x*exp(-x)\n",
    "#expectation\n",
    "expRes,expErr=quad(f,0,inf)\n",
    "print(round(expRes))"
   ]
  },
  {
   "cell_type": "code",
   "execution_count": 3,
   "id": "3836b09c",
   "metadata": {},
   "outputs": [
    {
     "name": "stdout",
     "output_type": "stream",
     "text": [
      "2.0\n"
     ]
    }
   ],
   "source": [
    "def f(x):\n",
    "    \"\"\"summary: this function returns the equation (function given in the problem) with x^2 multiplied to it to find the expectaion of X^2\n",
    "    \n",
    "    date: 9/08/22\n",
    "    author: Aharneish Abburu\"\"\"\n",
    "    return (x**2)*exp(-x)\n",
    "#expectation of x^2\n",
    "expRes_x2,expErr_x2=quad(f,0,inf)\n",
    "print(expRes_x2)"
   ]
  },
  {
   "cell_type": "code",
   "execution_count": 4,
   "id": "847936e7",
   "metadata": {},
   "outputs": [
    {
     "data": {
      "text/plain": [
       "1.0000000000000009"
      ]
     },
     "execution_count": 4,
     "metadata": {},
     "output_type": "execute_result"
    }
   ],
   "source": [
    "#variance (x)= expecation(x^2)-(expectation(x))^2\n",
    "var=expRes_x2-(expRes**2)\n",
    "var"
   ]
  },
  {
   "cell_type": "code",
   "execution_count": 21,
   "id": "21c0e742",
   "metadata": {},
   "outputs": [
    {
     "name": "stdout",
     "output_type": "stream",
     "text": [
      "enter the nth moment: 5\n",
      "120.0\n"
     ]
    }
   ],
   "source": [
    "#nth moment\n",
    "def nth(n):\n",
    "    k,err=quad(lambda x:(x**n)*exp(-x),0,inf)\n",
    "    print(k)\n",
    "n=int(input(\"enter the nth moment: \"))\n",
    "nth(n)"
   ]
  },
  {
   "cell_type": "code",
   "execution_count": null,
   "id": "fcaf798e",
   "metadata": {},
   "outputs": [],
   "source": [
    "#2(b)\n",
    "def f(x):\n",
    "    \"\"\"summary:  this function returns the equation (function given in the problem)\n",
    "    date: 9/08/22\n",
    "    author: Aharneish Abburu\"\"\"\n",
    "    return 1*(pi*(1+x**2))**-1\n",
    "res,error=quad(f,-inf,inf) #pdf\n",
    "print(res)"
   ]
  },
  {
   "cell_type": "code",
   "execution_count": 26,
   "id": "9fa149ad",
   "metadata": {},
   "outputs": [
    {
     "name": "stdout",
     "output_type": "stream",
     "text": [
      "0.0\n"
     ]
    }
   ],
   "source": [
    "def expF(x):\n",
    "    \"\"\"summary:  this function returns the equation (function given in the problem) with x multiplied to it for finding the expectation \n",
    "    date: 9/08/22\n",
    "    author: Aharneish Abburu\"\"\"\n",
    "    return x*1*(pi*(1+x**2))**-1\n",
    "ExpRes,ExpErr=quad(expF,-inf,inf)\n",
    "print(ExpRes)"
   ]
  },
  {
   "cell_type": "code",
   "execution_count": 25,
   "id": "b66978c6",
   "metadata": {},
   "outputs": [
    {
     "name": "stdout",
     "output_type": "stream",
     "text": [
      "-1.636619772368145\n"
     ]
    },
    {
     "name": "stderr",
     "output_type": "stream",
     "text": [
      "C:\\Users\\Msc 1\\AppData\\Local\\Temp\\ipykernel_8520\\4196809279.py:6: IntegrationWarning: The integral is probably divergent, or slowly convergent.\n",
      "  ExpResx2,ExpErrx2=quad(expFx2,-inf,inf)\n"
     ]
    }
   ],
   "source": [
    "def expFx2(x):\n",
    "    \"\"\"summary:  this function returns the equation (function given in the problem) with x^2 multiplied to it for finding the expectation \n",
    "    date: 9/08/22\n",
    "    author: Aharneish Abburu\"\"\"\n",
    "    return (x**2)*1*(pi*(1+x**2))**-1\n",
    "ExpResx2,ExpErrx2=quad(expFx2,-inf,inf)\n",
    "print(ExpResx2)"
   ]
  },
  {
   "cell_type": "code",
   "execution_count": 23,
   "id": "a7e20501",
   "metadata": {},
   "outputs": [
    {
     "name": "stdout",
     "output_type": "stream",
     "text": [
      "enter the nth moment: 2\n",
      "-0.8183098861840725\n"
     ]
    },
    {
     "name": "stderr",
     "output_type": "stream",
     "text": [
      "C:\\Users\\Msc 1\\AppData\\Local\\Temp\\ipykernel_8520\\4012332693.py:2: IntegrationWarning: The integral is probably divergent, or slowly convergent.\n",
      "  k,err=quad(lambda x:(x**n)*1*(pi*(1+x**2))**-1,0,inf)\n"
     ]
    }
   ],
   "source": [
    "def nth(n):\n",
    "    k,err=quad(lambda x:(x**n)*1*(pi*(1+x**2))**-1,0,inf)\n",
    "    print(k)\n",
    "n=int(input(\"enter the nth moment: \"))\n",
    "nth(n)"
   ]
  },
  {
   "cell_type": "code",
   "execution_count": null,
   "id": "ec6d4ac7",
   "metadata": {},
   "outputs": [],
   "source": [
    "#2(c)\n",
    "def f(x):\n",
    "    \"\"\"summary:  this function returns the equation (function given in the problem) \n",
    "    date: 9/08/22\n",
    "    author: Aharneish Abburu\"\"\"\n",
    "    return x*exp(-x)\n",
    "res,err=quad(f,0,inf)#pdf\n",
    "round(res)"
   ]
  },
  {
   "cell_type": "code",
   "execution_count": null,
   "id": "778d0d7e",
   "metadata": {},
   "outputs": [],
   "source": [
    "def expF(x):\n",
    "    \"\"\"summary:  this function returns the equation (function given in the problem) with x multiplied to it for finding the expectation \n",
    "    date: 9/08/22\n",
    "    author: Aharneish Abburu\"\"\"\n",
    "    return x*x*exp(-x)\n",
    "ExpRes,ExpErr=quad(expF,0,inf)\n",
    "ExpRes"
   ]
  },
  {
   "cell_type": "code",
   "execution_count": null,
   "id": "2046a845",
   "metadata": {},
   "outputs": [],
   "source": [
    "def ExpFx2(x):\n",
    "    \"\"\"summary:  this function returns the equation (function given in the problem) with x^2 multiplied to it for finding the expectation \n",
    "    date: 9/08/22\n",
    "    author: Aharneish Abburu\"\"\"\n",
    "    return (x**2)*x*exp(-x)\n",
    "ExpResx2,ExpErrx2=quad(ExpFx2,0,inf)\n",
    "round(ExpResx2)"
   ]
  },
  {
   "cell_type": "code",
   "execution_count": 27,
   "id": "f1f1e1f6",
   "metadata": {},
   "outputs": [
    {
     "name": "stdout",
     "output_type": "stream",
     "text": [
      "enter the nth moment: 3\n",
      "24.0\n"
     ]
    }
   ],
   "source": [
    "def nth(n):\n",
    "    k,err=quad(lambda x:(x**n)*x*exp(-x),0,inf)\n",
    "    print(k)\n",
    "n=int(input(\"enter the nth moment: \"))\n",
    "nth(n)"
   ]
  },
  {
   "cell_type": "code",
   "execution_count": 3,
   "id": "002679b2",
   "metadata": {},
   "outputs": [
    {
     "name": "stdout",
     "output_type": "stream",
     "text": [
      "enter the value of the p which is the probability: .32\n",
      "the expectation is: 3.125\n",
      "the expectation of x^2 is: 16.40625\n",
      "the variance is: 6.640625\n",
      "enter the nth moment: 3\n",
      "the nth moment is: 127.63671875\n"
     ]
    }
   ],
   "source": [
    "#2(d)\n",
    "import mpmath as mp\n",
    "def exp(p):\n",
    "    return mp.nsum(lambda x: x*p*(1-p)**(x-1),[0,inf])\n",
    "def exp_x2(p):\n",
    "    return mp.nsum(lambda x: (x**2)*p*(1-p)**(x-1),[0,inf])\n",
    "def var(p):\n",
    "    return (exp_x2(p)-exp(p)**2)\n",
    "def nthmoment(n,p):\n",
    "    return mp.nsum(lambda x:(x**n)*p*(1-p)**(x-1),[0,inf])\n",
    "p=float(input(\"enter the value of the p which is the probability: \"))\n",
    "print(f\"the expectation is: {exp(p)}\")\n",
    "print(f\"the expectation of x^2 is: {exp_x2(p)}\")\n",
    "print(f\"the variance is: {var(p)}\")\n",
    "n=int(input(\"enter the nth moment: \"))\n",
    "print(f\"the nth moment is: {nthmoment(n,p)}\")"
   ]
  },
  {
   "cell_type": "markdown",
   "id": "cc11f893",
   "metadata": {},
   "source": [
    " fθ(x) =θ^2xe^(−θx) if x > 0;\n",
    "       = 0 if x<=0\n"
   ]
  },
  {
   "cell_type": "markdown",
   "id": "c666ff18",
   "metadata": {},
   "source": [
    "#using a instead of thetha\n",
    "def f(a,x):\n",
    "    return (a**2)*x*exp(-a*x)\n",
    "a=symbols('a')\n",
    "x=symbols('x')\n",
    "res,err=quad(f,0,inf,args=a)"
   ]
  },
  {
   "cell_type": "markdown",
   "id": "d1c0fb07",
   "metadata": {},
   "source": [
    "#3(b) \n",
    "def f(a,x):\n",
    "    return ((x+1)/(a*(a+1)))*exp(-x/a)\n",
    "k=f(pi,1)\n",
    "res,err=quad(k,0,inf)"
   ]
  },
  {
   "cell_type": "code",
   "execution_count": null,
   "id": "c57cdac5",
   "metadata": {},
   "outputs": [],
   "source": []
  },
  {
   "cell_type": "code",
   "execution_count": null,
   "id": "f157f9c3",
   "metadata": {},
   "outputs": [],
   "source": []
  },
  {
   "cell_type": "code",
   "execution_count": null,
   "id": "5a02722f",
   "metadata": {},
   "outputs": [],
   "source": []
  },
  {
   "cell_type": "code",
   "execution_count": null,
   "id": "6487f380",
   "metadata": {},
   "outputs": [],
   "source": []
  },
  {
   "cell_type": "code",
   "execution_count": null,
   "id": "50ecb2ee",
   "metadata": {},
   "outputs": [],
   "source": []
  }
 ],
 "metadata": {
  "kernelspec": {
   "display_name": "Python 3 (ipykernel)",
   "language": "python",
   "name": "python3"
  },
  "language_info": {
   "codemirror_mode": {
    "name": "ipython",
    "version": 3
   },
   "file_extension": ".py",
   "mimetype": "text/x-python",
   "name": "python",
   "nbconvert_exporter": "python",
   "pygments_lexer": "ipython3",
   "version": "3.9.13"
  }
 },
 "nbformat": 4,
 "nbformat_minor": 5
}
